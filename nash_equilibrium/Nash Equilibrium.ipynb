{
 "cells": [
  {
   "cell_type": "markdown",
   "metadata": {
    "collapsed": true
   },
   "source": [
    "## Nash equilibrium\n",
    "$\\newcommand{\\n}[1]{\\left\\|#1 \\right\\|}$ \n",
    "$\\renewcommand{\\a}{\\alpha}             $ \n",
    "$\\renewcommand{\\b}{\\beta}              $ \n",
    "$\\renewcommand{\\c}{\\gamma}             $ \n",
    "$\\renewcommand{\\d}{\\delta}             $ \n",
    "$\\newcommand{\\D}{\\Delta}               $ \n",
    "$\\newcommand{\\la}{\\lambda}             $ \n",
    "$\\renewcommand{\\t}{\\tau}               $ \n",
    "$\\newcommand{\\s}{\\sigma}               $ \n",
    "$\\newcommand{\\e}{\\varepsilon}          $ \n",
    "$\\renewcommand{\\th}{\\theta}            $ \n",
    "$\\newcommand{\\x}{\\bar x}               $ \n",
    "$\\newcommand{\\R}{\\mathbb R}            $ \n",
    "$\\newcommand{\\N}{\\mathbb N}            $ \n",
    "$\\newcommand{\\Z}{\\mathbb Z}            $ \n",
    "$\\newcommand{\\E}{\\mathcal E}           $ \n",
    "$\\newcommand{\\lr}[1]{\\left\\langle #1\\right\\rangle}$\n",
    "$\\newcommand{\\nf}[1]{\\nabla f(#1)}     $\n",
    "$\\newcommand{\\hx}{\\hat x}               $\n",
    "$\\newcommand{\\hy}{\\hat y}               $\n",
    "$\\DeclareMathOperator{\\prox}{prox}      $\n",
    "$\\DeclareMathOperator{\\argmin}{argmin}  $\n",
    "$\\DeclareMathOperator{\\dom}{dom}        $\n",
    "$\\DeclareMathOperator{\\id}{Id}          $\n",
    "$\\DeclareMathOperator{\\conv}{conv}      $\n",
    "\n",
    "Based on paper of P. Harker \"A variational inequality approach for the determination of oligopolistic market equlibrium.\"\n",
    "\n",
    "Let there be $n$ firms, $i=1,\\dots, n$ which supply a homogenous product in a noncooperative fashion. Let $p(Q)$ denote the inverse demand curve, where $Q$ is the total supply in the market. Let $q_i\\geq 0$ denote the $i$th firm's supply. Thus, $Q = \\sum_{i=1}^n q_i$. Finally, let $f_i(q_i)$ denote the $i$th firm's total cost of supplying $q_i$ units.\n",
    "\n",
    "A variational inequality that corresponds to the equlibrium is\n",
    "$$\\text{find}\\quad q^* = (q_1^*,\\dots, q_n^*)\\in \\R^{n}_+ \\quad \\text{s.t. } \\sum_{i=1}^n \\lr{F_i(q^*), q_i - q_i^*}\\geq 0,\\quad \\forall q \\in \\R^{n}_+,$$\n",
    "where \n",
    "$$F_i(q^*) = f'_i(q_i^*) - p\\left(\\sum_{j=1}^n q_j^*\\right) - q_i^* p'\\left(\\sum_{j=1}^n q_j^*\\right)$$\n",
    "\n",
    "As a particular example, we assume that the inverse demand function is defined by\n",
    "$$p(Q) = 5000^{1/\\c}Q^{-1/\\c}$$\n",
    "and a total cost function takes form:\n",
    "$$f_i(q_i) = c_i q_i + \\frac{\\b_i}{\\b_i+1}L_i^{\\frac{1}{\\b_i}} q_i^{\\frac{\\b_i+1}{\\b_i}}$$"
   ]
  },
  {
   "cell_type": "code",
   "execution_count": 8,
   "metadata": {},
   "outputs": [
    {
     "name": "stdout",
     "output_type": "stream",
     "text": [
      "The autoreload extension is already loaded. To reload it, use:\n",
      "  %reload_ext autoreload\n"
     ]
    }
   ],
   "source": [
    "import matplotlib.pyplot as plt\n",
    "from algorithms import *\n",
    "%load_ext autoreload\n",
    "%matplotlib inline\n",
    "%autoreload 2"
   ]
  },
  {
   "cell_type": "code",
   "execution_count": 28,
   "metadata": {
    "collapsed": true
   },
   "outputs": [],
   "source": []
  },
  {
   "cell_type": "markdown",
   "metadata": {
    "collapsed": true
   },
   "source": [
    "Generate some data"
   ]
  },
  {
   "cell_type": "code",
   "execution_count": 9,
   "metadata": {
    "collapsed": true
   },
   "outputs": [],
   "source": [
    "n = 1000\n",
    "\n",
    "np.random.seed(1)\n",
    "\n",
    "c = np.random.uniform(1,100,n)\n",
    "L = np.random.uniform(0.5,5,n)\n",
    "beta = np.random.uniform(0.5, 2,n) # good\n",
    "#beta = np.random.uniform(0.3, 4,n)\n",
    "gamma = 1.1\n",
    "#gamma = 1.5\n",
    "\n",
    "p = lambda Q: (5000**(1./gamma)) * (Q**(-1./gamma))\n",
    "\n",
    "def f(q):\n",
    "    t = 1./beta\n",
    "    res = c * q + 1./(1.+t)*(L**t * q**(1+t))\n",
    "    return res\n",
    "\n",
    "def df(q):\n",
    "    t = 1./beta\n",
    "    res = c + (L* q)**t\n",
    "    return res\n",
    "\n",
    "dp = lambda Q: -1./gamma * (5000**(1./gamma)) * (Q**(-1./gamma -1))\n",
    "\n",
    "def F(q):\n",
    "    Q = q.sum()\n",
    "    res = df(q) - p(Q) - q*dp(Q)\n",
    "    return res\n",
    "\n",
    "g = lambda x: 0\n",
    "prox_g = lambda q, eps: np.fmax(q,0)\n",
    "  \n",
    "# residual\n",
    "J = lambda x: LA.norm(x-prox_g(x-F(x),1))\n",
    "\n",
    "# starting point\n",
    "q0 = np.ones(n)"
   ]
  },
  {
   "cell_type": "code",
   "execution_count": 10,
   "metadata": {},
   "outputs": [
    {
     "name": "stdout",
     "output_type": "stream",
     "text": [
      "CPU time for FBF: 5.634273331001168\n",
      "CPU time for EGRAAL: 3.1662525400170125\n"
     ]
    }
   ],
   "source": [
    "N = 10000\n",
    "ans1 = tseng_fbf_linesearch(J, F, prox_g, q0, delta=1.5, numb_iter=N)\n",
    "ans2 = explicit_graal(J, F, prox_g, q0, numb_iter=N, phi=1.5, output=False)\n",
    "\n",
    "\n"
   ]
  },
  {
   "cell_type": "code",
   "execution_count": 11,
   "metadata": {
    "scrolled": false
   },
   "outputs": [
    {
     "data": {
      "image/png": "[encoded data removed]",
      "text/plain": [
       "<matplotlib.figure.Figure at 0x7f66ef6cecc0>"
      ]
     },
     "metadata": {},
     "output_type": "display_data"
    }
   ],
   "source": [
    "plt.plot(ans1[0], 'b')\n",
    "plt.plot(ans2[0], '#FFD700')\n",
    "\n",
    "plt.yscale('log')"
   ]
  },
  {
   "cell_type": "markdown",
   "metadata": {},
   "source": [
    "Fancy plot:"
   ]
  },
  {
   "cell_type": "code",
   "execution_count": 12,
   "metadata": {},
   "outputs": [
    {
     "data": {
      "image/png": "[encoded data removed]",
      "text/plain": [
       "<matplotlib.figure.Figure at 0x7f66f804a860>"
      ]
     },
     "metadata": {},
     "output_type": "display_data"
    }
   ],
   "source": [
    "import matplotlib as mpl\n",
    "mpl.rc('lines', linewidth=2)\n",
    "mpl.rcParams.update(\n",
    "    {'font.size': 13, 'font.family': 'STIXGeneral', 'mathtext.fontset': 'stix'})\n",
    "mpl.rcParams['xtick.major.pad'] = 2\n",
    "mpl.rcParams['ytick.major.pad'] = 2\n",
    "\n",
    "plt.plot(ans1[0], 'b', label = 'FBF')\n",
    "plt.plot(ans2[0], '#FFD700', label = 'EGRAAL')\n",
    "\n",
    "plt.yscale('log')\n",
    "\n",
    "plt.xlabel(u' iterations, $k$')\n",
    "plt.ylabel(u'residual')\n",
    "\n",
    "plt.legend()\n",
    "plt.savefig('nash.pdf')\n",
    "plt.show()"
   ]
  },
  {
   "cell_type": "code",
   "execution_count": null,
   "metadata": {
    "collapsed": true
   },
   "outputs": [],
   "source": []
  }
 ],
 "metadata": {
  "kernelspec": {
   "display_name": "Python 3",
   "language": "python",
   "name": "python3"
  },
  "language_info": {
   "codemirror_mode": {
    "name": "ipython",
    "version": 3
   },
   "file_extension": ".py",
   "mimetype": "text/x-python",
   "name": "python",
   "nbconvert_exporter": "python",
   "pygments_lexer": "ipython3",
   "version": "3.6.2"
  }
 },
 "nbformat": 4,
 "nbformat_minor": 1
}
