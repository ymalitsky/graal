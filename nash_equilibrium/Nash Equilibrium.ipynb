{
 "cells": [
  {
   "cell_type": "markdown",
   "metadata": {
    "collapsed": true
   },
   "source": [
    "## Nash equilibrium\n",
    "$\\newcommand{\\n}[1]{\\left\\|#1 \\right\\|}$ \n",
    "$\\renewcommand{\\a}{\\alpha}             $ \n",
    "$\\renewcommand{\\b}{\\beta}              $ \n",
    "$\\renewcommand{\\c}{\\gamma}             $ \n",
    "$\\renewcommand{\\d}{\\delta}             $ \n",
    "$\\newcommand{\\D}{\\Delta}               $ \n",
    "$\\newcommand{\\la}{\\lambda}             $ \n",
    "$\\renewcommand{\\t}{\\tau}               $ \n",
    "$\\newcommand{\\s}{\\sigma}               $ \n",
    "$\\newcommand{\\e}{\\varepsilon}          $ \n",
    "$\\renewcommand{\\th}{\\theta}            $ \n",
    "$\\newcommand{\\x}{\\bar x}               $ \n",
    "$\\newcommand{\\R}{\\mathbb R}            $ \n",
    "$\\newcommand{\\N}{\\mathbb N}            $ \n",
    "$\\newcommand{\\Z}{\\mathbb Z}            $ \n",
    "$\\newcommand{\\E}{\\mathcal E}           $ \n",
    "$\\newcommand{\\lr}[1]{\\left\\langle #1\\right\\rangle}$\n",
    "$\\newcommand{\\nf}[1]{\\nabla f(#1)}     $\n",
    "$\\newcommand{\\hx}{\\hat x}               $\n",
    "$\\newcommand{\\hy}{\\hat y}               $\n",
    "$\\DeclareMathOperator{\\prox}{prox}      $\n",
    "$\\DeclareMathOperator{\\argmin}{argmin}  $\n",
    "$\\DeclareMathOperator{\\dom}{dom}        $\n",
    "$\\DeclareMathOperator{\\id}{Id}          $\n",
    "$\\DeclareMathOperator{\\conv}{conv}      $\n",
    "\n",
    "This problem is a generalization of the one from [Murphy et. al.](#link_1) and [Harker](#link_2), where it was considered for $n=5$. We consider higher-dimensional problem with some random generated parameters.\n",
    "\n",
    "\n",
    "Let there be $n$ firms, $i=1,\\dots, n$ which supply a homogenous product in a noncooperative fashion. Let $p(Q)$ denote the inverse demand curve, where $Q$ is the total supply in the market. Let $q_i\\geq 0$ denote the $i$th firm's supply. Thus, $Q = \\sum_{i=1}^n q_i$. Finally, let $f_i(q_i)$ denote the $i$th firm's total cost of supplying $q_i$ units.\n",
    "\n",
    "A variational inequality that corresponds to the equlibrium is\n",
    "\\begin{equation*}\n",
    "\\text{find}\\quad q^* = (q_1^*,\\dots, q_n^*)\\in \\R^{n}_+ \\quad \\text{s.t. } \\sum_{i=1}^n \\lr{F_i(q^*), q_i - q_i^*}\\geq 0,\\quad \\forall q \\in \\R^{n}_+,\n",
    "\\end{equation*}\n",
    "where \n",
    "\\begin{equation*}\n",
    "F_i(q^*) = f'_i(q_i^*) - p\\left(\\sum_{j=1}^n q_j^*\\right) - q_i^* p'\\left(\\sum_{j=1}^n q_j^*\\right)\n",
    "\\end{equation*}\n",
    "\n",
    "As a particular example, we assume that the inverse demand function is defined by\n",
    "\\begin{equation*}\n",
    "p(Q) = 5000^{1/\\c}Q^{-1/\\c}\n",
    "\\end{equation*}\n",
    "and a total cost function takes form:\n",
    "\\begin{equation*}\n",
    "f_i(q_i) = c_i q_i + \\frac{\\b_i}{\\b_i+1}L_i^{\\frac{1}{\\b_i}} q_i^{\\frac{\\b_i+1}{\\b_i}}\n",
    "\\end{equation*}\n",
    "<font size=\"1\">\n",
    "\n",
    "<a id=\"link_1\"></a>\n",
    "[1] F. H. Murphy, H. D. Sherali, and A. L. Soyster. A mathematical programming approach for determining oligopolistic market equilibrium. Mathematical Programming,\n",
    "24(1):92–106, 1982.\n",
    "\n",
    "<a id=\"link_2\"></a>\n",
    "[2] P. T. Harker. A variational inequality approach for the determination of oligopolistic market equilibrium. Mathematical Programming, 30(1):105–111, 1984.\n",
    "</font>"
   ]
  },
  {
   "cell_type": "code",
   "execution_count": 1,
   "metadata": {},
   "outputs": [
    {
     "name": "stdout",
     "output_type": "stream",
     "text": [
      "The autoreload extension is already loaded. To reload it, use:\n",
      "  %reload_ext autoreload\n"
     ]
    }
   ],
   "source": [
    "import matplotlib.pyplot as plt\n",
    "from algorithms import *\n",
    "import seaborn as sns\n",
    "\n",
    "%load_ext autoreload\n",
    "%matplotlib inline\n",
    "%autoreload 2"
   ]
  },
  {
   "cell_type": "code",
   "execution_count": 2,
   "metadata": {},
   "outputs": [],
   "source": [
    "n = 1000\n",
    "\n",
    "np.random.seed(1)\n",
    "\n",
    "c = np.random.uniform(1,100,n)\n",
    "L = np.random.uniform(0.5,5,n)\n",
    "beta = np.random.uniform(0.5, 2,n) # good\n",
    "#beta = np.random.uniform(0.3, 4,n)\n",
    "gamma = 1.1\n",
    "#gamma = 1.5\n",
    "\n",
    "p = lambda Q: (5000**(1./gamma)) * (Q**(-1./gamma))\n",
    "\n",
    "def f(q):\n",
    "    t = 1./beta\n",
    "    res = c * q + 1./(1.+t)*(L**t * q**(1+t))\n",
    "    return res\n",
    "\n",
    "def df(q):\n",
    "    t = 1./beta\n",
    "    res = c + (L* q)**t\n",
    "    return res\n",
    "\n",
    "dp = lambda Q: -1./gamma * (5000**(1./gamma)) * (Q**(-1./gamma -1))\n",
    "\n",
    "def F(q):\n",
    "    Q = q.sum()\n",
    "    res = df(q) - p(Q) - q*dp(Q)\n",
    "    return res\n",
    "\n",
    "g = lambda x: 0\n",
    "prox_g = lambda q, eps: np.fmax(q,0)\n",
    "  \n",
    "# residual\n",
    "J = lambda x: LA.norm(x - prox_g(x - F(x), 1))\n",
    "\n",
    "# starting point\n",
    "q0 = np.ones(n)"
   ]
  },
  {
   "cell_type": "code",
   "execution_count": 3,
   "metadata": {},
   "outputs": [
    {
     "name": "stdout",
     "output_type": "stream",
     "text": [
      "CPU time for FBF: 2.963223253027536\n",
      "CPU time for aGRAAL: 1.5082669050316326\n"
     ]
    }
   ],
   "source": [
    "N = 10000\n",
    "ans1 = tseng_fbf_linesearch(J, F, prox_g, q0, delta=1.5, numb_iter=N)\n",
    "ans2 = adaptive_graal(J, F, prox_g, q0, numb_iter=N, phi=1.5, output=False)\n"
   ]
  },
  {
   "cell_type": "code",
   "execution_count": 7,
   "metadata": {
    "scrolled": true
   },
   "outputs": [
    {
     "data": {
      "image/png": "[encoded data removed]",
      "text/plain": [
       "<Figure size 432x288 with 1 Axes>"
      ]
     },
     "metadata": {},
     "output_type": "display_data"
    }
   ],
   "source": [
    "# comment the following line if seaborn is not imported\n",
    "sns.set()\n",
    "\n",
    "plt.plot(ans1[0], '--b', label = 'FBF')\n",
    "plt.plot(ans2[0], '#FFD700', label = 'aGRAAL')\n",
    "\n",
    "plt.yscale('log')\n",
    "\n",
    "plt.xlabel(u' iterations, $k$')\n",
    "plt.ylabel(u'residual')\n",
    "\n",
    "plt.legend()\n",
    "#plt.savefig('figures/nash.pdf', bbox_inches='tight')\n",
    "plt.show()"
   ]
  },
  {
   "cell_type": "code",
   "execution_count": null,
   "metadata": {},
   "outputs": [],
   "source": []
  }
 ],
 "metadata": {
  "kernelspec": {
   "display_name": "Python 3",
   "language": "python",
   "name": "python3"
  },
  "language_info": {
   "codemirror_mode": {
    "name": "ipython",
    "version": 3
   },
   "file_extension": ".py",
   "mimetype": "text/x-python",
   "name": "python",
   "nbconvert_exporter": "python",
   "pygments_lexer": "ipython3",
   "version": "3.6.8"
  }
 },
 "nbformat": 4,
 "nbformat_minor": 1
}
