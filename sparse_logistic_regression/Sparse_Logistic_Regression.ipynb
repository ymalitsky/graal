{
 "cells": [
  {
   "cell_type": "markdown",
   "metadata": {},
   "source": [
    "## Sparse logistic regression\n",
    "$\\newcommand{\\n}[1]{\\left\\|#1 \\right\\|}$ \n",
    "$\\newcommand{\\R}{\\mathbb R}            $ \n",
    "$\\newcommand{\\N}{\\mathbb N}            $ \n",
    "$\\newcommand{\\Z}{\\mathbb Z}            $ \n",
    "$\\newcommand{\\lr}[1]{\\left\\langle #1\\right\\rangle}$\n",
    "\n",
    "We want to minimize\n",
    "$$\\min_x J(x) := \\sum_{i=1}^m \\log\\bigl(1+\\exp (-b_i\\lr{a_i, x})\\bigr) + \\gamma \\n{x}_1$$\n",
    "where $(a_i, b_i)\\in \\R^n\\times \\{-1,1\\}$ is the training set and $\\gamma >0$. We can rewrite the objective as \n",
    "$J(x) = \\tilde f(Kx)+g(x)$,\n",
    "where $$\\tilde f(y)=\\sum_{i=1}^{} \\log (1+\\exp(y_i)), \\quad K = -b*A \\in \\R^{m\\times n}, \\quad g(x) = \\gamma \\n{x}_1$$\n"
   ]
  },
  {
   "cell_type": "code",
   "execution_count": 4,
   "metadata": {},
   "outputs": [],
   "source": [
    "import numpy as np\n",
    "import scipy.linalg as LA\n",
    "import scipy.sparse as spr\n",
    "import scipy.sparse.linalg as spr_LA\n",
    "from time import perf_counter\n",
    "from sklearn import datasets"
   ]
  },
  {
   "cell_type": "code",
   "execution_count": 19,
   "metadata": {},
   "outputs": [
    {
     "name": "stdout",
     "output_type": "stream",
     "text": [
      "The dataset a9a. The dimensions: m=32561, n=123\n"
     ]
    }
   ],
   "source": [
    "filename = \"data/a9a\"\n",
    "#filename = \"data/real-sim.bz2\"\n",
    "#filename = \"data/rcv1_train.binary.bz2\"\n",
    "#filename = \"data/kdda.t.bz2\"\n",
    "\n",
    "A, b =  datasets.load_svmlight_file(filename)\n",
    "m, n = A.shape\n",
    "\n",
    "print(\"The dataset {}. The dimensions: m={}, n={}\".format(filename[5:], m, n))\n",
    "\n",
    "\n",
    "# define all ingredients for sparse logistic regression\n",
    "gamma = 0.005 * LA.norm(A.T.dot(b), np.inf)\n",
    "K = (A.T.multiply(-b)).T.tocsr()\n",
    "\n",
    "# find the norm of K^T K\n",
    "L = spr_LA.svds(K, k=1, return_singular_vectors=False)**2\n",
    "\n",
    "# starting point\n",
    "x0 = np.zeros(n)\n",
    "\n",
    "# stepsize\n",
    "ss = 4/L\n",
    "\n",
    "\n",
    "g = lambda x: gamma*LA.norm(x,1)\n",
    "prox_g = lambda x, rho: x + np.clip(-x, -rho*gamma, rho*gamma)\n",
    "\n",
    "\n",
    "f = lambda x: np.log(1. + np.exp(x)).sum()\n",
    "\n",
    "def df(x):\n",
    "    exp_x = np.exp(x)\n",
    "    return exp_x/(1.+exp_x)\n",
    "\n",
    "dh = lambda x, Kx: K.T.dot(df(Kx))\n",
    "\n",
    "# residual\n",
    "res = lambda x: LA.norm(x-prox_g(x-dh(x,K.dot(x)), 1))\n",
    "\n",
    "# energy\n",
    "J = lambda x, Kx: f(Kx)+g(x)"
   ]
  },
  {
   "cell_type": "code",
   "execution_count": 20,
   "metadata": {
    "collapsed": true
   },
   "outputs": [],
   "source": [
    "### Algorithms\n",
    "\n",
    "def prox_grad(x1, s=1, numb_iter=100):\n",
    "    \"\"\"\n",
    "    Implementation of the proximal gradient method.\n",
    "\n",
    "    x1: array, a starting point\n",
    "    s: positive number, a stepsize\n",
    "    numb_iter: positive integer, number of iterations\n",
    "\n",
    "    Returns an array of energy values, computed in each iteration, and the\n",
    "    argument x_k after numb_iter iterations\n",
    "    \"\"\"\n",
    "    begin = perf_counter()\n",
    "    x = x1.copy()\n",
    "    Kx = K.dot(x)\n",
    "    values = [J(x, Kx)]\n",
    "    dhx = dh(x,Kx)\n",
    "\n",
    "    for i in range(numb_iter):\n",
    "        #x = prox_g(x - s * dh(x, Kx), s)\n",
    "        x = prox_g(x - s * dhx, s)\n",
    "        Kx = K.dot(x)\n",
    "        dhx = dh(x,Kx)\n",
    "        values.append(J(x, Kx))\n",
    "\n",
    "    end = perf_counter()\n",
    "\n",
    "    print(\"Time execution of prox-grad:\", end - begin)\n",
    "    return np.array(values), x\n",
    "\n",
    "\n",
    "def fista(x1, s=1, numb_iter=100):\n",
    "    \"\"\"\n",
    "    Implementation of the FISTA.\n",
    "\n",
    "    x1: array, a starting point\n",
    "    s: positive number, a stepsize\n",
    "    numb_iter: positive integer, number of iterations\n",
    "\n",
    "    Returns an array of energy values, computed in each iteration, and the\n",
    "    argument x_k after numb_iter iterations\n",
    "    \"\"\"\n",
    "    begin = perf_counter()\n",
    "    x, y = x1.copy(), x1.copy()\n",
    "    t = 1.\n",
    "    Ky = K.dot(y)\n",
    "    values = [J(y,Ky)]\n",
    "\n",
    "    for i in range(numb_iter):\n",
    "        x1 = prox_g(y - s * dh(y, Ky), s)\n",
    "        t1 = 0.5 * (1 + np.sqrt(1 + 4 * t**2))\n",
    "        y = x1 + (t - 1) / t1 * (x1 - x)\n",
    "        x, t = x1, t1\n",
    "        Ky = K.dot(y)\n",
    "        values.append(J(y, Ky))\n",
    "\n",
    "    end = perf_counter()\n",
    "\n",
    "    print(\"Time execution of FISTA:\", end - begin)\n",
    "    return np.array(values), x\n",
    "\n",
    "\n",
    "def adaptive_graal(x1, numb_iter=100):\n",
    "    \"\"\"\n",
    "    Implementation of the adaptive GRAAL.\n",
    "\n",
    "    x1: array, a starting point\n",
    "    numb_iter: positive integer, number of iterations\n",
    "\n",
    "    Returns an array of energy values, computed in each iteration, and the\n",
    "    argument x_k after numb_iter iterations\n",
    "    \"\"\"\n",
    "    begin = perf_counter()\n",
    "    phi = 1.5\n",
    "    x, x_ = x1.copy(), x1.copy()\n",
    "    x0 = x + np.random.randn(x.shape[0]) * 1e-9\n",
    "    Kx = K.dot(x)\n",
    "    dhx = dh(x, Kx)\n",
    "    la = phi / 2 * LA.norm(x - x0) / LA.norm(dhx - dh(x0, K.dot(x0)))\n",
    "    rho = 1. / phi + 1. / phi**2\n",
    "    values = [J(x, Kx)]\n",
    "    th = 1\n",
    "\n",
    "    for i in range(numb_iter):\n",
    "        x1 = prox_g(x_ - la * dhx, la)\n",
    "        Kx1 = K.dot(x1)\n",
    "        dhx1 = dh(x1, Kx1)\n",
    "\n",
    "        n1 = LA.norm(x1 - x)**2\n",
    "        n2 = LA.norm(dhx1 - dhx)**2\n",
    "\n",
    "        n1_div_n2 = n1/n2 if n2 != 0 else la*10\n",
    "        la1 = min(rho * la, 0.25 * phi * th / la * (n1_div_n2))\n",
    "        x_ = ((phi - 1) * x1 + x_) / phi\n",
    "        th = phi * la1 / la\n",
    "        x, la, dhx = x1, la1, dhx1\n",
    "        values.append(J(x1, Kx1))\n",
    "\n",
    "    end = perf_counter()\n",
    "\n",
    "    print(\"Time execution of aGRAAL:\", end - begin)\n",
    "    return values, x, x_\n"
   ]
  },
  {
   "cell_type": "markdown",
   "metadata": {},
   "source": [
    "Run the algorithms. It might take some time, if the dataset and/or the number of iterations are huge"
   ]
  },
  {
   "cell_type": "code",
   "execution_count": 21,
   "metadata": {},
   "outputs": [
    {
     "name": "stdout",
     "output_type": "stream",
     "text": [
      "Time execution of prox-grad: 68.03384687801008\n",
      "Time execution of FISTA: 68.20270787499612\n",
      "Time execution of aGRAAL: 70.1420427080011\n",
      "Residuals: [4.084755911350097e-05, 6.0765061701526585e-06, 7.583397935460372e-10]\n"
     ]
    }
   ],
   "source": [
    "N = 10000\n",
    "ans1 = prox_grad(x0, ss, numb_iter=N)\n",
    "ans2 = fista(x0, ss, numb_iter=N)\n",
    "ans3 = adaptive_graal(x0,  numb_iter=N)\n",
    "\n",
    "x1, x2, x3 = ans1[1], ans2[1], ans3[1]\n",
    "x1, x3 = ans1[1], ans3[1]\n",
    "print(\"Residuals:\", [res(x) for x in [x1, x2, x3]])"
   ]
  },
  {
   "cell_type": "markdown",
   "metadata": {},
   "source": [
    "Plot the results"
   ]
  },
  {
   "cell_type": "code",
   "execution_count": 22,
   "metadata": {},
   "outputs": [
    {
     "data": {
      "text/plain": [
       "<matplotlib.figure.Figure at 0x7fc9a75d1d68>"
      ]
     },
     "metadata": {},
     "output_type": "display_data"
    },
    {
     "data": {
      "image/png": "[encoded data removed]",
      "text/plain": [
       "<matplotlib.figure.Figure at 0x7fc9a780f5c0>"
      ]
     },
     "metadata": {},
     "output_type": "display_data"
    }
   ],
   "source": [
    "values = [ans1[0], ans2[0], ans3[0]]\n",
    "labels = [\"PGM\", \"FISTA\", \"aGRAAL\"]\n",
    "linestyles = [':', \"--\", \"-\"]\n",
    "colors = ['b', 'g', '#FFD700']\n",
    "\n",
    "v_min = min([min(v) for v in values])\n",
    "plt.figure(figsize=(6,4))\n",
    "for i,v in enumerate(values):\n",
    "    plt.plot(v - v_min, color=colors[i], label=labels[i], linestyle=linestyles[i])\n",
    "plt.yscale('log')\n",
    "plt.xlabel(u'iterations, k')\n",
    "plt.ylabel('$J(x^k)-J_{_*}$')\n",
    "plt.legend()\n",
    "#plt.savefig('figures/a9a.pdf', bbox_inches='tight')\n",
    "plt.show()\n",
    "\n",
    "\n",
    "plt.clf()\n"
   ]
  },
  {
   "cell_type": "code",
   "execution_count": 10,
   "metadata": {},
   "outputs": [
    {
     "data": {
      "text/plain": [
       "204733.10930555634"
      ]
     },
     "execution_count": 10,
     "metadata": {},
     "output_type": "execute_result"
    }
   ],
   "source": [
    "np.max(spr_LA.eigsh(K.T.dot(K))[0])"
   ]
  },
  {
   "cell_type": "code",
   "execution_count": 11,
   "metadata": {},
   "outputs": [
    {
     "data": {
      "text/plain": [
       "array([ 204733.10930556])"
      ]
     },
     "execution_count": 11,
     "metadata": {},
     "output_type": "execute_result"
    }
   ],
   "source": [
    "L"
   ]
  },
  {
   "cell_type": "code",
   "execution_count": null,
   "metadata": {
    "collapsed": true
   },
   "outputs": [],
   "source": []
  }
 ],
 "metadata": {
  "kernelspec": {
   "display_name": "Python 3",
   "language": "python",
   "name": "python3"
  },
  "language_info": {
   "codemirror_mode": {
    "name": "ipython",
    "version": 3
   },
   "file_extension": ".py",
   "mimetype": "text/x-python",
   "name": "python",
   "nbconvert_exporter": "python",
   "pygments_lexer": "ipython3",
   "version": "3.6.2"
  }
 },
 "nbformat": 4,
 "nbformat_minor": 1
}
